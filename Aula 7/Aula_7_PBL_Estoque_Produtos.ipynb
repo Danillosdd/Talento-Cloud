{
  "nbformat": 4,
  "nbformat_minor": 0,
  "metadata": {
    "colab": {
      "provenance": []
    },
    "kernelspec": {
      "name": "python3",
      "display_name": "Python 3"
    },
    "language_info": {
      "name": "python"
    }
  },
  "cells": [
    {
      "cell_type": "markdown",
      "source": [
        "#Função que verifica se um array tem determinado elemento ou não"
      ],
      "metadata": {
        "id": "Lq0YHa5k6f49"
      }
    },
    {
      "cell_type": "code",
      "source": [
        "def achar_elemento(elem, arr):\n",
        "  achou = False\n",
        "\n",
        "  for i in range(len(arr)):\n",
        "    if arr[i] == elem:\n",
        "      achou = True\n",
        "\n",
        "  if(achou == False):\n",
        "    print(\"Não achamos o nome: \" + elem)\n",
        "  else:\n",
        "    print(\"Achamos o nome: \" + elem)\n",
        "\n",
        "\n",
        "nomes = [\"Rafael\", \"João\", \"Karen\", \"Julia\"]\n",
        "\n",
        "achar_elemento(\"Rafael\", nomes)"
      ],
      "metadata": {
        "colab": {
          "base_uri": "https://localhost:8080/"
        },
        "id": "r7Dq-uwN6mTA",
        "outputId": "edce5552-f8d9-4d68-c24a-3cb6f0d01ee3"
      },
      "execution_count": null,
      "outputs": [
        {
          "output_type": "stream",
          "name": "stdout",
          "text": [
            "Achamos o nome: Rafael\n"
          ]
        }
      ]
    },
    {
      "cell_type": "markdown",
      "source": [
        "#1º Desafio:\n",
        "\n",
        "* O sistema irá perguntar ao usuário o elemento que deseja procurar, e continue procurando até achar um:"
      ],
      "metadata": {
        "id": "X3mITz2NBSj2"
      }
    },
    {
      "cell_type": "code",
      "source": [
        "def achar_elemento(elem, arr):\n",
        "  achou = False\n",
        "\n",
        "  for i in range(len(arr)):\n",
        "    if arr[i] == elem:\n",
        "      achou = True\n",
        "\n",
        "  if(achou == False):\n",
        "    print(\"Não achamos o nome: \" + elem)\n",
        "  else:\n",
        "    print(\"Achamos o nome: \" + elem)\n",
        "\n",
        "\n",
        "nomes = [\"Rafael\", \"João\", \"Karen\", \"Julia\"]\n",
        "\n",
        "elem = input(\"Informe o Nome Desejado: \")\n",
        "\n",
        "achar_elemento(elem, nomes)"
      ],
      "metadata": {
        "colab": {
          "base_uri": "https://localhost:8080/"
        },
        "id": "IuO6V35RBS6K",
        "outputId": "af06f66f-7331-43d6-a5fc-4ddf9d32a708"
      },
      "execution_count": null,
      "outputs": [
        {
          "output_type": "stream",
          "name": "stdout",
          "text": [
            "Informe o Nome Desejado: Rafael\n",
            "Achamos o nome: Rafael\n"
          ]
        }
      ]
    },
    {
      "cell_type": "markdown",
      "source": [
        "#2º Desafio:\n",
        "\n",
        "* O dono de uma loja entra em contato com você com a seguinte situação:\n",
        "\n",
        "\"Boa Tarde,\n",
        "\n",
        "Estamos modernizando nossa loja e precisamos de um novo sistema de controle de estoque.\n",
        "Geralmente anotamos todos os produtos que temos disponíveis, e quando um dos produtos acaba, substituímos ele por algum outro produto.\n",
        "\n",
        "Ouvi dizer que vocês podem fazer um sistema para a gente que mostra a lista com todos nossos produtos, e nos deixa alterar um produto por outro.\n",
        "\n",
        "Além disso, estamos pensando em amplicar nosso armazém, para ter mais espaços apra mais produtos. Então, se puderem fazer com que o sistema nos permita adicionar mais produtos à lista, e qualquer outra coisa que acharem necessário, seria muito bom.\n",
        "\n",
        "Desde já agradeço!\""
      ],
      "metadata": {
        "id": "2fcNGy5NEK_G"
      }
    },
    {
      "cell_type": "code",
      "source": [
        "def controle_estoque():\n",
        "\n",
        "  entrada = 0\n",
        "  estoque = [\"Arroz\", \"Feijão\"]\n",
        "  numero_valido = False\n",
        "\n",
        "  while (entrada != 4):\n",
        "\n",
        "    print(\"==============================\")\n",
        "    print(\"SISTEMA DE CONTROLE DE ESTOQUE\\n\\n\")\n",
        "\n",
        "    print(\"Informe uma das opções:\\n\")\n",
        "    print(\"1 - Para Listar os  Produto do Estoque\")\n",
        "    print(\"2 - Para Adicionar Produto\")\n",
        "    print(\"3 - Para Substituir Produto\")\n",
        "    print(\"4 - Para encerrar Sistema\")\n",
        "    print(\"==============================\")\n",
        "\n",
        "    try:\n",
        "      entrada = int(input())\n",
        "    except:\n",
        "      print(\"Você precisa digitar um número inteiro!\")\n",
        "\n",
        "    if (entrada == 1):\n",
        "      print(\"ITENS NO ESTOQUE ATUALMENTE:\\n\")\n",
        "      for i in range(len(estoque)):\n",
        "        print(str(i+1) + \" - \" + estoque[i])\n",
        "\n",
        "    elif (entrada == 2):\n",
        "      novo_produto = input(\"Qual o produto deseja adicionar ao estoque? \\n\")\n",
        "      estoque.append(novo_produto)\n",
        "\n",
        "\n",
        "    elif (entrada == 3):\n",
        "      while(numero_valido == False):\n",
        "\n",
        "        try:\n",
        "          codigo_produto = int(input(\"Informe o código do produto que deseja substituir:\\n\")) - 1\n",
        "          novo_produto = input(\"Informe o código do produto que deseja substituir:\\n\")\n",
        "          estoque[codigo_produto] = novo_produto\n",
        "          numero_valido = True\n",
        "        except:\n",
        "          print(\"Você precisa digitar um número inteiro!\")\n",
        "\n",
        "  print(\"***SISTEMA FINALIZADO***\")\n",
        "\n",
        "controle_estoque()"
      ],
      "metadata": {
        "colab": {
          "base_uri": "https://localhost:8080/"
        },
        "id": "pmIWbFNDEZaE",
        "outputId": "815a3783-7e69-48b4-9b35-f7de5e9ef429"
      },
      "execution_count": 3,
      "outputs": [
        {
          "output_type": "stream",
          "name": "stdout",
          "text": [
            "==============================\n",
            "SISTEMA DE CONTROLE DE ESTOQUE\n",
            "\n",
            "\n",
            "Informe uma das opções:\n",
            "\n",
            "1 - Para Listar os  Produto do Estoque\n",
            "2 - Para Adicionar Produto\n",
            "3 - Para Substituir Produto\n",
            "4 - Para encerrar Sistema\n",
            "==============================\n",
            "1\n",
            "ITENS NO ESTOQUE ATUALMENTE:\n",
            "\n",
            "1 - Arroz\n",
            "2 - Feijão\n",
            "==============================\n",
            "SISTEMA DE CONTROLE DE ESTOQUE\n",
            "\n",
            "\n",
            "Informe uma das opções:\n",
            "\n",
            "1 - Para Listar os  Produto do Estoque\n",
            "2 - Para Adicionar Produto\n",
            "3 - Para Substituir Produto\n",
            "4 - Para encerrar Sistema\n",
            "==============================\n",
            "2\n",
            "Qual o produto deseja adicionar ao estoque? \n",
            "Açúcar\n",
            "==============================\n",
            "SISTEMA DE CONTROLE DE ESTOQUE\n",
            "\n",
            "\n",
            "Informe uma das opções:\n",
            "\n",
            "1 - Para Listar os  Produto do Estoque\n",
            "2 - Para Adicionar Produto\n",
            "3 - Para Substituir Produto\n",
            "4 - Para encerrar Sistema\n",
            "==============================\n",
            "3\n",
            "Informe o código do produto que deseja substituir:\n",
            "2\n",
            "Informe o código do produto que deseja substituir:\n",
            "Café\n",
            "==============================\n",
            "SISTEMA DE CONTROLE DE ESTOQUE\n",
            "\n",
            "\n",
            "Informe uma das opções:\n",
            "\n",
            "1 - Para Listar os  Produto do Estoque\n",
            "2 - Para Adicionar Produto\n",
            "3 - Para Substituir Produto\n",
            "4 - Para encerrar Sistema\n",
            "==============================\n",
            "1\n",
            "ITENS NO ESTOQUE ATUALMENTE:\n",
            "\n",
            "1 - Arroz\n",
            "2 - Café\n",
            "3 - Açúcar\n",
            "==============================\n",
            "SISTEMA DE CONTROLE DE ESTOQUE\n",
            "\n",
            "\n",
            "Informe uma das opções:\n",
            "\n",
            "1 - Para Listar os  Produto do Estoque\n",
            "2 - Para Adicionar Produto\n",
            "3 - Para Substituir Produto\n",
            "4 - Para encerrar Sistema\n",
            "==============================\n",
            "\n",
            "Você precisa digitar um número inteiro!\n",
            "ITENS NO ESTOQUE ATUALMENTE:\n",
            "\n",
            "1 - Arroz\n",
            "2 - Café\n",
            "3 - Açúcar\n",
            "==============================\n",
            "SISTEMA DE CONTROLE DE ESTOQUE\n",
            "\n",
            "\n",
            "Informe uma das opções:\n",
            "\n",
            "1 - Para Listar os  Produto do Estoque\n",
            "2 - Para Adicionar Produto\n",
            "3 - Para Substituir Produto\n",
            "4 - Para encerrar Sistema\n",
            "==============================\n",
            "4\n",
            "***SISTEMA FINALIZADO***\n"
          ]
        }
      ]
    }
  ]
}