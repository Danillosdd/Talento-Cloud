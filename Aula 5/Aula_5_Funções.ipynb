{
  "nbformat": 4,
  "nbformat_minor": 0,
  "metadata": {
    "colab": {
      "provenance": []
    },
    "kernelspec": {
      "name": "python3",
      "display_name": "Python 3"
    },
    "language_info": {
      "name": "python"
    }
  },
  "cells": [
    {
      "cell_type": "markdown",
      "source": [
        "#FUNÇÕES\n",
        "\n",
        "* Função Escrever Multiplicação\n",
        "\n"
      ],
      "metadata": {
        "id": "1OE2SksRRY3_"
      }
    },
    {
      "cell_type": "code",
      "source": [
        "def escrever_multiplicacao(num1,num2):\n",
        "  resultado = str(num1 * num2)\n",
        "  frase = str(num1) + ' x ' + str(num2) + ' = ' + resultado\n",
        "  return frase"
      ],
      "metadata": {
        "id": "qQWXOBcnRZBG"
      },
      "execution_count": null,
      "outputs": []
    },
    {
      "cell_type": "markdown",
      "source": [
        "* Função Escrever Divisão"
      ],
      "metadata": {
        "id": "fOhnJaD_USpN"
      }
    },
    {
      "cell_type": "code",
      "source": [
        "def escrever_divisao(num1,num2):\n",
        "  resultado = str(num1 / num2)\n",
        "  frase = str(num1) + ' ÷ ' + str(num2) + ' = ' + resultado\n",
        "  return frase"
      ],
      "metadata": {
        "id": "yhaO_ga5UXi-"
      },
      "execution_count": null,
      "outputs": []
    },
    {
      "cell_type": "markdown",
      "source": [
        "* Função Escrever Soma"
      ],
      "metadata": {
        "id": "9sR7USvEU9tx"
      }
    },
    {
      "cell_type": "code",
      "source": [
        "def escrever_soma(num1,num2):\n",
        "  resultado = str(num1 + num2)\n",
        "  frase = str(num1) + ' + ' + str(num2) + ' = ' + resultado\n",
        "  return frase"
      ],
      "metadata": {
        "id": "yLtfK0z-U_vN"
      },
      "execution_count": null,
      "outputs": []
    },
    {
      "cell_type": "markdown",
      "source": [
        "* Função Subtração"
      ],
      "metadata": {
        "id": "hggYg9B6VDgs"
      }
    },
    {
      "cell_type": "code",
      "source": [
        "def escrever_subtracao(num1,num2):\n",
        "  resultado = str(num1 - num2)\n",
        "  frase = str(num1) + ' - ' + str(num2) + ' = ' + resultado\n",
        "  return frase"
      ],
      "metadata": {
        "id": "SX1FO-n4VDzi"
      },
      "execution_count": null,
      "outputs": []
    },
    {
      "cell_type": "markdown",
      "source": [
        "* Utilizando a Multiplicação com For e While"
      ],
      "metadata": {
        "id": "1L4hr1AlUhan"
      }
    },
    {
      "cell_type": "code",
      "source": [
        "print(\"FOR\")\n",
        "for i in range(1, 13):\n",
        "  frase_atual  = escrever_multiplicacao(8, i)\n",
        "  print(frase_atual)\n",
        "\n",
        "print(\"WHILE\")\n",
        "contador = 1\n",
        "while(contador < 13):\n",
        "  frase_atual  = escrever_multiplicacao(8, contador)\n",
        "  print(frase_atual)\n",
        "  contador +=1"
      ],
      "metadata": {
        "colab": {
          "base_uri": "https://localhost:8080/"
        },
        "id": "655pC0KOTAVA",
        "outputId": "fc769198-a8fb-4c1b-9535-55be302dc2f6"
      },
      "execution_count": null,
      "outputs": [
        {
          "output_type": "stream",
          "name": "stdout",
          "text": [
            "FOR\n",
            "8 x 1 = 8\n",
            "8 x 2 = 16\n",
            "8 x 3 = 24\n",
            "8 x 4 = 32\n",
            "8 x 5 = 40\n",
            "8 x 6 = 48\n",
            "8 x 7 = 56\n",
            "8 x 8 = 64\n",
            "8 x 9 = 72\n",
            "8 x 10 = 80\n",
            "8 x 11 = 88\n",
            "8 x 12 = 96\n",
            "WHILE\n",
            "8 x 1 = 8\n",
            "8 x 2 = 16\n",
            "8 x 3 = 24\n",
            "8 x 4 = 32\n",
            "8 x 5 = 40\n",
            "8 x 6 = 48\n",
            "8 x 7 = 56\n",
            "8 x 8 = 64\n",
            "8 x 9 = 72\n",
            "8 x 10 = 80\n",
            "8 x 11 = 88\n",
            "8 x 12 = 96\n"
          ]
        }
      ]
    },
    {
      "cell_type": "markdown",
      "source": [
        "* Utilizando a Divisão com For e While\n",
        "\n"
      ],
      "metadata": {
        "id": "fpX10pA9TpIa"
      }
    },
    {
      "cell_type": "code",
      "source": [
        "print(\"FOR\")\n",
        "for i in range(1, 13):\n",
        "  frase_atual  = escrever_divisao(8, i)\n",
        "  print(frase_atual)\n",
        "\n",
        "print(\"WHILE\")\n",
        "contador = 1\n",
        "while(contador < 13):\n",
        "  frase_atual  = escrever_divisao(8, contador)\n",
        "  print(frase_atual)\n",
        "  contador +=1"
      ],
      "metadata": {
        "colab": {
          "base_uri": "https://localhost:8080/"
        },
        "id": "gRGb9XKyTt-J",
        "outputId": "ef1dcae5-25bf-4bc9-e20a-9beeec9f4980"
      },
      "execution_count": null,
      "outputs": [
        {
          "output_type": "stream",
          "name": "stdout",
          "text": [
            "FOR\n",
            "8 ÷ 1 = 8.0\n",
            "8 ÷ 2 = 4.0\n",
            "8 ÷ 3 = 2.6666666666666665\n",
            "8 ÷ 4 = 2.0\n",
            "8 ÷ 5 = 1.6\n",
            "8 ÷ 6 = 1.3333333333333333\n",
            "8 ÷ 7 = 1.1428571428571428\n",
            "8 ÷ 8 = 1.0\n",
            "8 ÷ 9 = 0.8888888888888888\n",
            "8 ÷ 10 = 0.8\n",
            "8 ÷ 11 = 0.7272727272727273\n",
            "8 ÷ 12 = 0.6666666666666666\n",
            "WHILE\n",
            "8 ÷ 1 = 8.0\n",
            "8 ÷ 2 = 4.0\n",
            "8 ÷ 3 = 2.6666666666666665\n",
            "8 ÷ 4 = 2.0\n",
            "8 ÷ 5 = 1.6\n",
            "8 ÷ 6 = 1.3333333333333333\n",
            "8 ÷ 7 = 1.1428571428571428\n",
            "8 ÷ 8 = 1.0\n",
            "8 ÷ 9 = 0.8888888888888888\n",
            "8 ÷ 10 = 0.8\n",
            "8 ÷ 11 = 0.7272727272727273\n",
            "8 ÷ 12 = 0.6666666666666666\n"
          ]
        }
      ]
    },
    {
      "cell_type": "markdown",
      "source": [
        "* Utilizando a Soma com For e While\n",
        "\n"
      ],
      "metadata": {
        "id": "1rrMN8xCWF3n"
      }
    },
    {
      "cell_type": "code",
      "source": [
        "print(\"FOR\")\n",
        "for i in range(1, 13):\n",
        "  frase_atual  = escrever_soma(8, i)\n",
        "  print(frase_atual)\n",
        "\n",
        "print(\"WHILE\")\n",
        "contador = 1\n",
        "while(contador < 13):\n",
        "  frase_atual  = escrever_soma(8, contador)\n",
        "  print(frase_atual)\n",
        "  contador +=1"
      ],
      "metadata": {
        "colab": {
          "base_uri": "https://localhost:8080/"
        },
        "id": "u2GUNKSqWGwp",
        "outputId": "0a8c50a2-93cd-4904-8449-03b34971fe61"
      },
      "execution_count": null,
      "outputs": [
        {
          "output_type": "stream",
          "name": "stdout",
          "text": [
            "FOR\n",
            "8 + 1 = 9\n",
            "8 + 2 = 10\n",
            "8 + 3 = 11\n",
            "8 + 4 = 12\n",
            "8 + 5 = 13\n",
            "8 + 6 = 14\n",
            "8 + 7 = 15\n",
            "8 + 8 = 16\n",
            "8 + 9 = 17\n",
            "8 + 10 = 18\n",
            "8 + 11 = 19\n",
            "8 + 12 = 20\n",
            "WHILE\n",
            "8 + 1 = 9\n",
            "8 + 2 = 10\n",
            "8 + 3 = 11\n",
            "8 + 4 = 12\n",
            "8 + 5 = 13\n",
            "8 + 6 = 14\n",
            "8 + 7 = 15\n",
            "8 + 8 = 16\n",
            "8 + 9 = 17\n",
            "8 + 10 = 18\n",
            "8 + 11 = 19\n",
            "8 + 12 = 20\n"
          ]
        }
      ]
    },
    {
      "cell_type": "markdown",
      "source": [
        "* Utilizando a Subtração com For e While"
      ],
      "metadata": {
        "id": "7oyOHjx3WOpU"
      }
    },
    {
      "cell_type": "code",
      "source": [
        "print(\"FOR\")\n",
        "for i in range(1, 13):\n",
        "  frase_atual  = escrever_subtracao(8, i)\n",
        "  print(frase_atual)\n",
        "\n",
        "print(\"WHILE\")\n",
        "contador = 1\n",
        "while(contador < 13):\n",
        "  frase_atual  = escrever_subtracao(8, contador)\n",
        "  print(frase_atual)\n",
        "  contador +=1"
      ],
      "metadata": {
        "colab": {
          "base_uri": "https://localhost:8080/"
        },
        "id": "03YjXt7fWOvx",
        "outputId": "2b5d5f72-948b-4ed0-95d0-ae121f664a20"
      },
      "execution_count": null,
      "outputs": [
        {
          "output_type": "stream",
          "name": "stdout",
          "text": [
            "FOR\n",
            "8 - 1 = 7\n",
            "8 - 2 = 6\n",
            "8 - 3 = 5\n",
            "8 - 4 = 4\n",
            "8 - 5 = 3\n",
            "8 - 6 = 2\n",
            "8 - 7 = 1\n",
            "8 - 8 = 0\n",
            "8 - 9 = -1\n",
            "8 - 10 = -2\n",
            "8 - 11 = -3\n",
            "8 - 12 = -4\n",
            "WHILE\n",
            "8 - 1 = 7\n",
            "8 - 2 = 6\n",
            "8 - 3 = 5\n",
            "8 - 4 = 4\n",
            "8 - 5 = 3\n",
            "8 - 6 = 2\n",
            "8 - 7 = 1\n",
            "8 - 8 = 0\n",
            "8 - 9 = -1\n",
            "8 - 10 = -2\n",
            "8 - 11 = -3\n",
            "8 - 12 = -4\n"
          ]
        }
      ]
    }
  ]
}