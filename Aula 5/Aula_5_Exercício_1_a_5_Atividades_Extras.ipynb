{
  "cells": [
    {
      "cell_type": "markdown",
      "metadata": {
        "id": "x7bCC0dG7yNV"
      },
      "source": [
        "#ESTRUTURAS DE REPETIÇÃO\n",
        "\n",
        "1.   Regras todas as plantas"
      ]
    },
    {
      "cell_type": "markdown",
      "metadata": {
        "id": "FeDkVvcO_FDn"
      },
      "source": [
        "* FOR"
      ]
    },
    {
      "cell_type": "code",
      "execution_count": null,
      "metadata": {
        "colab": {
          "base_uri": "https://localhost:8080/"
        },
        "id": "QBvBYuVE7bKe",
        "outputId": "1b297c7d-ff78-4d63-f93b-521d56d62c0e"
      },
      "outputs": [
        {
          "output_type": "stream",
          "name": "stdout",
          "text": [
            "Regar a planta: 0\n",
            "Regar a planta: 1\n",
            "Regar a planta: 2\n",
            "Regar a planta: 3\n",
            "Regar a planta: 4\n",
            "Regar a planta: 5\n"
          ]
        }
      ],
      "source": [
        "for i in range(6):\n",
        "  planta_atual = str(i)\n",
        "  print(\"Regar a planta: \" + planta_atual)"
      ]
    },
    {
      "cell_type": "markdown",
      "metadata": {
        "id": "_iN80gAT_GmB"
      },
      "source": [
        "* WHILE"
      ]
    },
    {
      "cell_type": "code",
      "execution_count": null,
      "metadata": {
        "colab": {
          "base_uri": "https://localhost:8080/"
        },
        "id": "N8aUsNST_IET",
        "outputId": "f606e806-9933-4fb4-923a-d5bfe6e9c8ae"
      },
      "outputs": [
        {
          "output_type": "stream",
          "name": "stdout",
          "text": [
            "Regar a planta: 0\n",
            "Regar a planta: 1\n",
            "Regar a planta: 2\n",
            "Regar a planta: 3\n",
            "Regar a planta: 4\n",
            "Regar a planta: 5\n"
          ]
        }
      ],
      "source": [
        "contador = 0\n",
        "\n",
        "while(contador < 6):\n",
        "  planta_atual = str(contador)\n",
        "  print(\"Regar a planta: \" + planta_atual)\n",
        "  contador += 1"
      ]
    },
    {
      "cell_type": "markdown",
      "metadata": {
        "id": "AjcMHgZuBtt6"
      },
      "source": [
        "2.   Regar Pares - Tutora\n"
      ]
    },
    {
      "cell_type": "code",
      "execution_count": null,
      "metadata": {
        "colab": {
          "base_uri": "https://localhost:8080/"
        },
        "id": "HBvHeHayBwtl",
        "outputId": "b8f6b3fa-27d3-4552-f975-ce9d3350608c"
      },
      "outputs": [
        {
          "output_type": "stream",
          "name": "stdout",
          "text": [
            "Regar a planta: 0\n",
            "Regar a planta: 2\n",
            "Regar a planta: 4\n"
          ]
        }
      ],
      "source": [
        "for i in range(6):\n",
        "  if(i %  2 != 0):\n",
        "    continue\n",
        "  print(\"Regar a planta: \" + str(i))\n"
      ]
    },
    {
      "cell_type": "markdown",
      "metadata": {
        "id": "xoUfP_QcJ4Dj"
      },
      "source": [
        "2.   Regar Pares - Aluno"
      ]
    },
    {
      "cell_type": "code",
      "execution_count": null,
      "metadata": {
        "colab": {
          "base_uri": "https://localhost:8080/"
        },
        "id": "ljhU9hGDJvzQ",
        "outputId": "2c4b1356-7e32-4837-eae4-c68d5c3c5abf"
      },
      "outputs": [
        {
          "output_type": "stream",
          "name": "stdout",
          "text": [
            "Regar a planta: 0\n",
            "Regar a planta: 2\n",
            "Regar a planta: 4\n"
          ]
        }
      ],
      "source": [
        "contador = 0\n",
        "\n",
        "while(contador < 6):\n",
        "  if(contador % 2 == 0):\n",
        "    print(\"Regar a planta: \" + str(contador))\n",
        "  contador += 1"
      ]
    },
    {
      "cell_type": "markdown",
      "metadata": {
        "id": "L9gu4YpNL-YS"
      },
      "source": [
        "3.   Regar Batatas\n"
      ]
    },
    {
      "cell_type": "code",
      "execution_count": null,
      "metadata": {
        "colab": {
          "base_uri": "https://localhost:8080/"
        },
        "id": "bzrGioJMMCmR",
        "outputId": "c1e5cfc0-f2e8-44bf-8720-44eb620bfc38"
      },
      "outputs": [
        {
          "output_type": "stream",
          "name": "stdout",
          "text": [
            "Regar a planta: 3\n",
            "Regar a planta: 4\n",
            "Regar a planta: 5\n"
          ]
        }
      ],
      "source": [
        "for contador in range(6):\n",
        "  if(contador < 3):\n",
        "    continue\n",
        "  print(\"Regar a planta: \" + str(contador))\n",
        "  contador += 1\n",
        "\n"
      ]
    },
    {
      "cell_type": "markdown",
      "metadata": {
        "id": "6CGcXdULN4R3"
      },
      "source": [
        "4.   Regar Tomates\n"
      ]
    },
    {
      "cell_type": "code",
      "execution_count": null,
      "metadata": {
        "colab": {
          "base_uri": "https://localhost:8080/"
        },
        "id": "drAZOH6CN5Rd",
        "outputId": "81b62e1c-5797-4799-b6db-09a586608ca1"
      },
      "outputs": [
        {
          "output_type": "stream",
          "name": "stdout",
          "text": [
            "Regar a planta: 0\n",
            "Regar a planta: 1\n",
            "Regar a planta: 4\n",
            "Regar a planta: 5\n"
          ]
        }
      ],
      "source": [
        "for contador in range(6):\n",
        "  if(contador == 2) or (contador == 3 ):\n",
        "    continue\n",
        "  print(\"Regar a planta: \" + str(contador))\n",
        "  contador += 1"
      ]
    },
    {
      "cell_type": "markdown",
      "source": [
        "5.   Regar de trás pra frente\n"
      ],
      "metadata": {
        "id": "NdrAX_mzQho9"
      }
    },
    {
      "cell_type": "code",
      "source": [
        "for contador in range(5, -1, -1):\n",
        "  print(\"Regar a planta: \" + str(contador))\n"
      ],
      "metadata": {
        "id": "kak0l-OnQiW5",
        "outputId": "725bcb42-cc36-4bcc-fa2a-e29f1461503e",
        "colab": {
          "base_uri": "https://localhost:8080/"
        }
      },
      "execution_count": null,
      "outputs": [
        {
          "output_type": "stream",
          "name": "stdout",
          "text": [
            "Regar a planta: 5\n",
            "Regar a planta: 4\n",
            "Regar a planta: 3\n",
            "Regar a planta: 2\n",
            "Regar a planta: 1\n",
            "Regar a planta: 0\n"
          ]
        }
      ]
    }
  ],
  "metadata": {
    "colab": {
      "provenance": []
    },
    "kernelspec": {
      "display_name": "Python 3",
      "name": "python3"
    },
    "language_info": {
      "name": "python"
    }
  },
  "nbformat": 4,
  "nbformat_minor": 0
}