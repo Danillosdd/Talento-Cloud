{
  "nbformat": 4,
  "nbformat_minor": 0,
  "metadata": {
    "colab": {
      "provenance": []
    },
    "kernelspec": {
      "name": "python3",
      "display_name": "Python 3"
    },
    "language_info": {
      "name": "python"
    }
  },
  "cells": [
    {
      "cell_type": "markdown",
      "source": [
        "#Tratamento de Erros"
      ],
      "metadata": {
        "id": "y8j42DpCZlfW"
      }
    },
    {
      "cell_type": "code",
      "source": [
        "def mostrarNumero():\n",
        "  print(\"Escreva um número menor ou igual a 100\")\n",
        "  numero_valido = False\n",
        "\n",
        "  while(numero_valido == False):\n",
        "    try:\n",
        "      num = int(input())\n",
        "      if (num > 100):\n",
        "        print(\"O número precisa ser menor que 100\")\n",
        "      else:\n",
        "        print(\"Boa! Você escolheu um número menor que 100\")\n",
        "        numero_valido = True\n",
        "    except:\n",
        "      print(\"Você precisa digitar um número inteiro\")\n",
        "\n",
        "mostrarNumero()"
      ],
      "metadata": {
        "colab": {
          "base_uri": "https://localhost:8080/"
        },
        "id": "8Nknl2s1Zn8h",
        "outputId": "a421da7b-d194-4d4e-aa2c-312a879bb60a"
      },
      "execution_count": null,
      "outputs": [
        {
          "output_type": "stream",
          "name": "stdout",
          "text": [
            "Escreva um número menor ou igual a 100\n",
            "a\n",
            "Você precisa digitar um número inteiro\n",
            "120\n",
            "O número precisa ser menor que 100\n",
            "10\n",
            "Boa! Você escolheu um número menor que 100\n"
          ]
        }
      ]
    },
    {
      "cell_type": "markdown",
      "source": [
        "#Exercício 1\n",
        "\n",
        "* Verificar se um número é menor que zero, e tratar os erros com as mensagens apropriadas"
      ],
      "metadata": {
        "id": "YeSk5WB5hNX-"
      }
    },
    {
      "cell_type": "code",
      "source": [
        "def mostrarNumero():\n",
        "  print(\"Escreva um número maior que zero e menor ou igual a 100\")\n",
        "  numero_valido = False\n",
        "\n",
        "  while(numero_valido == False):\n",
        "    try:\n",
        "      num = int(input())\n",
        "      if (num > 100):\n",
        "        print(\"O número precisa ser menor que 100\")\n",
        "      elif(num < 0):\n",
        "        print(\"O número precisa ser maior que zero\")\n",
        "      else:\n",
        "        print(\"Boa! Você escolheu um número menor que 100\")\n",
        "        numero_valido = True\n",
        "    except:\n",
        "      print(\"Você precisa digitar um número inteiro\")\n",
        "\n",
        "mostrarNumero()"
      ],
      "metadata": {
        "colab": {
          "base_uri": "https://localhost:8080/"
        },
        "id": "_ycrH9xFhQ_D",
        "outputId": "f0af0f01-b099-4f24-c9aa-41f21573a7a5"
      },
      "execution_count": null,
      "outputs": [
        {
          "output_type": "stream",
          "name": "stdout",
          "text": [
            "Escreva um número maior que zero e menor ou igual a 100\n",
            "a\n",
            "Você precisa digitar um número inteiro\n",
            "120\n",
            "O número precisa ser menor que 100\n",
            "-10\n",
            "O número precisa ser maior que zero\n",
            "10\n",
            "Boa! Você escolheu um número menor que 100\n"
          ]
        }
      ]
    },
    {
      "cell_type": "markdown",
      "source": [
        "#Exercício 2\n",
        "\n",
        "* Criar uma segunda função e pedir para o usuário inserir um número par, e tratar os erros com as mensagens apropriadas"
      ],
      "metadata": {
        "id": "m_Gd6rCriSpU"
      }
    },
    {
      "cell_type": "code",
      "source": [
        "def mostrarNumeroPar():\n",
        "  print(\"Escreva um número que seja par\")\n",
        "  numero_valido = False\n",
        "\n",
        "  while(numero_valido == False):\n",
        "    try:\n",
        "      num = int(input())\n",
        "      if (num % 2 != 0):\n",
        "        print(\"O número precisa ser par\")\n",
        "      else:\n",
        "        print(\"Boa! Você escolheu um número par\")\n",
        "        numero_valido = True\n",
        "    except:\n",
        "      print(\"Você precisa digitar um número inteiro\")\n",
        "\n",
        "mostrarNumeroPar()"
      ],
      "metadata": {
        "colab": {
          "base_uri": "https://localhost:8080/"
        },
        "id": "gDA514xTiUdm",
        "outputId": "702dabb4-6dbe-417d-f56b-d22b9232e420"
      },
      "execution_count": null,
      "outputs": [
        {
          "output_type": "stream",
          "name": "stdout",
          "text": [
            "Escreva um número que seja par\n",
            "a\n",
            "Você precisa digitar um número inteiro\n",
            "3\n",
            "O número precisa ser par\n",
            "9\n",
            "O número precisa ser par\n",
            "4\n",
            "Boa! Você escolheu um número par\n"
          ]
        }
      ]
    },
    {
      "cell_type": "markdown",
      "source": [
        "#Exercício 3\n",
        "\n",
        "* Pedir um número que seja divisível por 2 e 3, e tratar os erros com as mensagens apropriadas"
      ],
      "metadata": {
        "id": "QuR-DRL_ip3-"
      }
    },
    {
      "cell_type": "code",
      "source": [
        "def mostrarNumeroDivisivel():\n",
        "  print(\"Escreva um número que seja divisível por 2 e 3\")\n",
        "  numero_valido = False\n",
        "\n",
        "  while(numero_valido == False):\n",
        "    try:\n",
        "      num = int(input())\n",
        "      if (num < 0):\n",
        "        print(\"O Número precisa ser Maior que zero\")\n",
        "      elif (num % 2 == 0) and (num % 3 != 0):\n",
        "        print(\"O número é divisível por 2, mais precisa ser divisível por 3 também\")\n",
        "      elif (num % 2 != 0) and (num % 3 == 0):\n",
        "        print(\"O número é divisível por 3, mais precisa ser divisível por 2 também\")\n",
        "      elif (num % 2 == 0) or (num % 3 == 0):\n",
        "        print(\"Boa! Você escolheu um divisível por 2 e 3\")\n",
        "        numero_valido = True\n",
        "      else:\n",
        "        print(\"O número precisar ser divisível por 2 e 3\")\n",
        "\n",
        "    except:\n",
        "      print(\"Você precisa digitar um número inteiro\")\n",
        "\n",
        "mostrarNumeroDivisivel()"
      ],
      "metadata": {
        "id": "Lt-e2I-MirpP",
        "colab": {
          "base_uri": "https://localhost:8080/"
        },
        "outputId": "1d7e23c9-755a-4b6a-c6e4-e879d8b72ba1"
      },
      "execution_count": 5,
      "outputs": [
        {
          "output_type": "stream",
          "name": "stdout",
          "text": [
            "Escreva um número que seja divisível por 2 e 3\n",
            "-1\n",
            "O Número precisa ser Maior que zero\n",
            "a\n",
            "Você precisa digitar um número inteiro\n",
            "9\n",
            "O número é divisível por 3, mais precisa ser divisível por 2 também\n",
            "14\n",
            "O número é divisível por 2, mais precisa ser divisível por 3 também\n",
            "6\n",
            "Boa! Você escolheu um divisível por 2 e 3\n"
          ]
        }
      ]
    }
  ]
}