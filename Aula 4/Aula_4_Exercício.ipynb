{
  "cells": [
    {
      "cell_type": "markdown",
      "metadata": {
        "id": "aEd4PJaegn1o"
      },
      "source": [
        "#TIPO DE DADOS"
      ]
    },
    {
      "cell_type": "code",
      "execution_count": null,
      "metadata": {
        "colab": {
          "base_uri": "https://localhost:8080/"
        },
        "id": "8uSrxeW8YCG7",
        "outputId": "df9ab14c-d336-4376-9a42-919b18d5c02a"
      },
      "outputs": [
        {
          "output_type": "stream",
          "name": "stdout",
          "text": [
            "Cevada\n",
            "<class 'str'>\n",
            "12.95\n",
            "<class 'float'>\n",
            "False\n",
            "<class 'bool'>\n",
            "Minha bebida favorita é: Cevada e o valor é: R$ 12.95\n",
            "Olá, me chamo Danillo e tenho 32 anos.\n"
          ]
        }
      ],
      "source": [
        "bebidaFavorita = \"Cevada\"\n",
        "print(bebidaFavorita)\n",
        "print(type(bebidaFavorita))\n",
        "\n",
        "bebida_preco = 12.95\n",
        "print(bebida_preco)\n",
        "print(type(bebida_preco))\n",
        "\n",
        "alcoolica = False\n",
        "print(alcoolica)\n",
        "print(type(alcoolica))\n",
        "\n",
        "print(\"Minha bebida favorita é: \" + bebidaFavorita + \" e o valor é: R$ \" + str(bebida_preco))\n",
        "\n",
        "idade = 32\n",
        "nome = \"Danillo\"\n",
        "\n",
        "print(\"Olá, me chamo {} e tenho {} anos.\".format(nome, idade))"
      ]
    },
    {
      "cell_type": "markdown",
      "metadata": {
        "id": "mk0QGAY-gr5i"
      },
      "source": [
        "#OPERADORES"
      ]
    },
    {
      "cell_type": "code",
      "execution_count": null,
      "metadata": {
        "colab": {
          "base_uri": "https://localhost:8080/"
        },
        "id": "ntkjvdO4gq10",
        "outputId": "c9329e7f-7d15-4aae-debf-09d6d3dff7ea"
      },
      "outputs": [
        {
          "output_type": "stream",
          "name": "stdout",
          "text": [
            "39.94\n",
            "10.060000000000002\n",
            "Meu Orçamento é: R$  50\n",
            "E o Valor é: R$  39.94\n"
          ]
        }
      ],
      "source": [
        "almoco_favorito = \"Lasanha\"\n",
        "almoco_preco = 26.99\n",
        "\n",
        "orcamento = 50\n",
        "\n",
        "\n",
        "total = bebida_preco + almoco_preco\n",
        "print(total)\n",
        "\n",
        "print(orcamento - total)\n",
        "print(\"Meu Orçamento é: R$ \", orcamento)\n",
        "print(\"E o Valor é: R$ \", total)\n"
      ]
    },
    {
      "cell_type": "markdown",
      "metadata": {
        "id": "npsduJiXn--l"
      },
      "source": [
        "#Exercício\n",
        "\n",
        "* Declare variáveis para sua sobremesa favorita, o preço dela, e a quantidade de convidados. Na sequência imprima o novo valor total e o valor a ser pago por cada convidado."
      ]
    },
    {
      "cell_type": "code",
      "execution_count": null,
      "metadata": {
        "colab": {
          "base_uri": "https://localhost:8080/"
        },
        "id": "6IOKgipaoJkg",
        "outputId": "650edb4b-0e75-4434-c457-3c90f030915f"
      },
      "outputs": [
        {
          "output_type": "stream",
          "name": "stdout",
          "text": [
            "A quantide de convidados é:  13\n",
            "O Valor total da conta é: R$ 713.57\n",
            "O Valor por pessoa a ser Pago é: R$ 54.89\n"
          ]
        }
      ],
      "source": [
        "sobremesa_favorita = \"Pudim\"\n",
        "sobremesa_preco = 14.95\n",
        "quantidade_convidados = 13\n",
        "valor_total = ((bebida_preco + almoco_preco + sobremesa_preco) * quantidade_convidados)\n",
        "valor_por_pessoa = (valor_total / quantidade_convidados)\n",
        "\n",
        "\n",
        "print(\"A quantide de convidados é: \", quantidade_convidados)\n",
        "print(f\"O Valor total da conta é: R$ {valor_total:.2f}\")\n",
        "print(f\"O Valor por pessoa a ser Pago é: R$ {valor_por_pessoa:.2f}\")\n"
      ]
    },
    {
      "cell_type": "markdown",
      "metadata": {
        "id": "DhRDOUoOv7CO"
      },
      "source": [
        "#ESTRUTURAS CONDICIONAIS\n",
        "\n",
        "* Vamos Conseguir Pagar o Jantar?"
      ]
    },
    {
      "cell_type": "code",
      "execution_count": null,
      "metadata": {
        "colab": {
          "base_uri": "https://localhost:8080/"
        },
        "id": "jA0hxi2dv-a4",
        "outputId": "232b4f32-6f78-4e08-b785-26c778bdc84f"
      },
      "outputs": [
        {
          "output_type": "stream",
          "name": "stdout",
          "text": [
            "Então você não vai acreditar, masss...\n"
          ]
        }
      ],
      "source": [
        "if(orcamento >= valor_por_pessoa):\n",
        "  print(\"Vamos dividir a conta!\")\n",
        "else:\n",
        "  print(\"Então você não vai acreditar, masss...\")"
      ]
    },
    {
      "cell_type": "markdown",
      "metadata": {
        "id": "u8QN8-yq1IIq"
      },
      "source": [
        "* Inclui variável do bom amigo...."
      ]
    },
    {
      "cell_type": "code",
      "execution_count": null,
      "metadata": {
        "colab": {
          "base_uri": "https://localhost:8080/"
        },
        "id": "e9tpHAAG1LSp",
        "outputId": "43df618d-8b7d-46fa-b40e-c4af336496af"
      },
      "outputs": [
        {
          "output_type": "stream",
          "name": "stdout",
          "text": [
            "Garçom! Será que vocês estão precisando de alguém para lavar os pratos?\n"
          ]
        }
      ],
      "source": [
        "bom_amigo = True\n",
        "\n",
        "if(orcamento >= valor_por_pessoa):\n",
        "    print(\"Vamos dividir a conta!\")\n",
        "elif(bom_amigo == False):\n",
        "  print(\"Obrigado meu amigo!\")\n",
        "else:\n",
        "  print(\"Garçom! Será que vocês estão precisando de alguém para lavar os pratos?\")"
      ]
    }
  ],
  "metadata": {
    "colab": {
      "provenance": []
    },
    "kernelspec": {
      "display_name": "Python 3",
      "name": "python3"
    },
    "language_info": {
      "name": "python"
    }
  },
  "nbformat": 4,
  "nbformat_minor": 0
}