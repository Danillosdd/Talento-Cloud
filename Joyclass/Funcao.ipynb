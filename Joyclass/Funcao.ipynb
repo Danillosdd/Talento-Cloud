{
  "nbformat": 4,
  "nbformat_minor": 0,
  "metadata": {
    "colab": {
      "provenance": []
    },
    "kernelspec": {
      "name": "python3",
      "display_name": "Python 3"
    },
    "language_info": {
      "name": "python"
    }
  },
  "cells": [
    {
      "cell_type": "markdown",
      "source": [
        "1-Função multiplicao()"
      ],
      "metadata": {
        "id": "Fp6ynklghtCT"
      }
    },
    {
      "cell_type": "code",
      "execution_count": null,
      "metadata": {
        "colab": {
          "base_uri": "https://localhost:8080/"
        },
        "id": "xJklJHmHYSE2",
        "outputId": "af93d245-c9c8-4774-a863-67d139c0a3a6"
      },
      "outputs": [
        {
          "output_type": "stream",
          "name": "stdout",
          "text": [
            "2 X 10 = 20\n"
          ]
        }
      ],
      "source": [
        "def escrever_multiplicacao(n1,n2):\n",
        "   resultado =str(n1 * n2)\n",
        "   fra = str(n1) + ' X ' + str(n2) + ' = ' + resultado\n",
        "   return fra\n",
        "print(escrever_multiplicacao(2, 10))"
      ]
    },
    {
      "cell_type": "code",
      "source": [],
      "metadata": {
        "id": "j31IGgNVjJjo"
      },
      "execution_count": null,
      "outputs": []
    },
    {
      "cell_type": "code",
      "source": [
        "for i in range(1, 13):\n",
        "  frase_atual = escrever_multiplicacao(8, i)\n",
        "  print(frase_atual)"
      ],
      "metadata": {
        "colab": {
          "base_uri": "https://localhost:8080/"
        },
        "id": "xyXuhXtZi0G8",
        "outputId": "48da1208-95e6-472b-cd28-14173cc86fb0"
      },
      "execution_count": null,
      "outputs": [
        {
          "output_type": "stream",
          "name": "stdout",
          "text": [
            "8 X 1 = 8\n",
            "8 X 2 = 16\n",
            "8 X 3 = 24\n",
            "8 X 4 = 32\n",
            "8 X 5 = 40\n",
            "8 X 6 = 48\n",
            "8 X 7 = 56\n",
            "8 X 8 = 64\n",
            "8 X 9 = 72\n",
            "8 X 10 = 80\n",
            "8 X 11 = 88\n",
            "8 X 12 = 96\n"
          ]
        }
      ]
    },
    {
      "cell_type": "code",
      "source": [
        " def escre_divi(n1,n2):\n",
        "   resultado1 =str(n1 / n2)\n",
        "   fra1 = str(n1) + ' / ' + str(n2) + ' = ' + resultado1\n",
        "   return fra1\n",
        "for U in range(1, 13):\n",
        "  frase_atual = escre_divi(10, U)\n",
        "  print(frase_atual)"
      ],
      "metadata": {
        "colab": {
          "base_uri": "https://localhost:8080/"
        },
        "id": "MTfaQO2ahsNY",
        "outputId": "9a03755d-da7e-4c43-cfc4-aab0b1837e8f"
      },
      "execution_count": null,
      "outputs": [
        {
          "output_type": "stream",
          "name": "stdout",
          "text": [
            "10 / 1 = 10.0\n",
            "10 / 2 = 5.0\n",
            "10 / 3 = 3.3333333333333335\n",
            "10 / 4 = 2.5\n",
            "10 / 5 = 2.0\n",
            "10 / 6 = 1.6666666666666667\n",
            "10 / 7 = 1.4285714285714286\n",
            "10 / 8 = 1.25\n",
            "10 / 9 = 1.1111111111111112\n",
            "10 / 10 = 1.0\n",
            "10 / 11 = 0.9090909090909091\n",
            "10 / 12 = 0.8333333333333334\n"
          ]
        }
      ]
    }
  ]
}