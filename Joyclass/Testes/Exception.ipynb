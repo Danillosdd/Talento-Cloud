{
  "nbformat": 4,
  "nbformat_minor": 0,
  "metadata": {
    "colab": {
      "provenance": []
    },
    "kernelspec": {
      "name": "python3",
      "display_name": "Python 3"
    },
    "language_info": {
      "name": "python"
    }
  },
  "cells": [
    {
      "cell_type": "code",
      "source": [
        "print(\"Informe um Número: \")\n",
        "try:\n",
        "  valor = int(input())\n",
        "  valor = valor + 5\n",
        "  print(str(valor))\n",
        "except:\n",
        "  print(\"Não foi digitado um número!\")"
      ],
      "metadata": {
        "colab": {
          "base_uri": "https://localhost:8080/"
        },
        "id": "mZDJYbDnbCY9",
        "outputId": "de6e917d-a046-4437-e422-b772f070eda1"
      },
      "execution_count": null,
      "outputs": [
        {
          "output_type": "stream",
          "name": "stdout",
          "text": [
            "Informe um Número: \n",
            "a\n",
            "Não foi digitado um número!\n"
          ]
        }
      ]
    },
    {
      "cell_type": "code",
      "execution_count": null,
      "metadata": {
        "colab": {
          "base_uri": "https://localhost:8080/"
        },
        "id": "l4nxy3DSZ9tc",
        "outputId": "db4155ba-2b3c-4298-f658-7091f40fdf30"
      },
      "outputs": [
        {
          "output_type": "stream",
          "name": "stdout",
          "text": [
            "Informe um Número: \n",
            "a\n",
            "invalid literal for int() with base 10: 'a'\n"
          ]
        }
      ],
      "source": [
        "print(\"Informe um Número: \")\n",
        "try:\n",
        "  valor = int(input())\n",
        "  valor = valor + 5\n",
        "  print(str(valor))\n",
        "except Exception as e:\n",
        "  print(e)"
      ]
    },
    {
      "cell_type": "code",
      "source": [
        "def caluladora(numero1, numero2, operacao):\n",
        "\n",
        "  if (operacao == 1):\n",
        "    resultado = (numero1 + numero2)\n",
        "\n",
        "\n",
        "  elif (operacao == 2):\n",
        "    resultado = (numero1 - numero2)\n",
        "\n",
        "\n",
        "  elif (operacao == 3):\n",
        "    resultado = (numero1 * numero2)\n",
        "\n",
        "\n",
        "  elif (operacao == 4):\n",
        "    if(numero2 != 0):\n",
        "      resultado = (numero1 / numero2)\n",
        "    else:\n",
        "      raise Exception(\"Divisão por zero não é possível!\")\n",
        "\n",
        "  else:\n",
        "    raise Exception(\"Operação não existe\")\n",
        "\n",
        "  return resultado\n",
        "\n",
        "operacao = 1\n",
        "\n",
        "try:\n",
        "  while(operacao != 0):\n",
        "    print(\"--------------------------------------------\")\n",
        "    print(\"Operações::\")\n",
        "    print(\"1. Soma\")\n",
        "    print(\"2. Subtração\")\n",
        "    print(\"3. Multiplicação\")\n",
        "    print(\"4. Divisão\")\n",
        "    print(\"0. Sair\")\n",
        "\n",
        "    numero1 = int(input(\"Informe o primeiro número: \"))\n",
        "    numero2 = int(input(\"Informe o segundo número: \"))\n",
        "    operacao = int(input(\"Informe a operação desejada: \"))\n",
        "\n",
        "    resultado = caluladora(numero1,numero2, operacao)\n",
        "\n",
        "    print(\"\\nO Resultado da operação é: \", resultado)\n",
        "except Exception as err:\n",
        "  print(\"\\nOcorreu um erro:\")\n",
        "  print(err)"
      ],
      "metadata": {
        "id": "j78mv5vNbMaX",
        "colab": {
          "base_uri": "https://localhost:8080/"
        },
        "outputId": "2132ac66-3ae6-4cd8-ee55-52963487efc7"
      },
      "execution_count": null,
      "outputs": [
        {
          "output_type": "stream",
          "name": "stdout",
          "text": [
            "--------------------------------------------\n",
            "Operações::\n",
            "1. Soma\n",
            "2. Subtração\n",
            "3. Multiplicação\n",
            "4. Divisão\n",
            "0. Sair\n",
            "Informe o primeiro número: 10\n",
            "Informe o segundo número: 0\n",
            "Informe a operação desejada: 4\n",
            "\n",
            "Ocorreu um erro:\n",
            "Divisão por zero não é possível!\n"
          ]
        }
      ]
    },
    {
      "cell_type": "code",
      "source": [
        "numeroCorreto = False\n",
        "\n",
        "while (numeroCorreto == False):\n",
        "\n",
        "   print(\"Insira um número par\")\n",
        "\n",
        "   try:\n",
        "\n",
        "       numero = int(input())\n",
        "\n",
        "       if (numero%2 == 0):\n",
        "\n",
        "           numeroCorreto = True\n",
        "\n",
        "           print(\"Você digitou um numero par !\")\n",
        "\n",
        "       else :\n",
        "\n",
        "           print(\"Você digitou um número impar\")\n",
        "\n",
        "   except:\n",
        "\n",
        "       print(\"Caracter inválido, por favor digite um número par\")"
      ],
      "metadata": {
        "colab": {
          "base_uri": "https://localhost:8080/"
        },
        "id": "BHZYNCvueQdT",
        "outputId": "c83651a1-051c-46f6-d8aa-b27d2366183d"
      },
      "execution_count": null,
      "outputs": [
        {
          "output_type": "stream",
          "name": "stdout",
          "text": [
            "Insira um número par\n",
            "3\n",
            "Você digitou um número impar\n",
            "Insira um número par\n",
            "a\n",
            "Caracter inválido, por favor digite um número par\n",
            "Insira um número par\n",
            "6\n",
            "Você digitou um numero par !\n"
          ]
        }
      ]
    }
  ]
}