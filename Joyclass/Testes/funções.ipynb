{
  "nbformat": 4,
  "nbformat_minor": 0,
  "metadata": {
    "colab": {
      "provenance": []
    },
    "kernelspec": {
      "name": "python3",
      "display_name": "Python 3"
    },
    "language_info": {
      "name": "python"
    }
  },
  "cells": [
    {
      "cell_type": "code",
      "source": [],
      "metadata": {
        "id": "DzmlXuBxm3jF"
      },
      "execution_count": null,
      "outputs": []
    },
    {
      "cell_type": "markdown",
      "source": [
        "felipe ribeiro//\n",
        "braulio//\n",
        "wandeyson Clayton//\n",
        "Lenadro//\n",
        "sabrina//\n",
        "\n",
        "atualizem ai meu teams caiu kkk"
      ],
      "metadata": {
        "id": "9e4s8YWhmnMj"
      }
    },
    {
      "cell_type": "code",
      "execution_count": null,
      "metadata": {
        "colab": {
          "base_uri": "https://localhost:8080/"
        },
        "id": "Gyp_erlHjR2p",
        "outputId": "372cbb27-c2fd-4131-d93a-467f8925be63"
      },
      "outputs": [
        {
          "output_type": "stream",
          "name": "stdout",
          "text": [
            "10 / 2 = 5.0\n"
          ]
        }
      ],
      "source": [
        "def divisao(num1, num2):\n",
        "  resultado = str(num1 / num2)\n",
        "  frase = str(num1) + ' / ' + str(num2) + ' = ' + resultado\n",
        "  return frase\n",
        "\n",
        "print(divisao(10,2))"
      ]
    },
    {
      "cell_type": "code",
      "source": [
        "for i in range(1, 13):\n",
        "  frase_atual = divisao(8, i)\n",
        "  print (frase_atual)"
      ],
      "metadata": {
        "colab": {
          "base_uri": "https://localhost:8080/"
        },
        "id": "kS-40KEzlBTT",
        "outputId": "563f5288-a57c-4143-b75e-7300942adaf8"
      },
      "execution_count": null,
      "outputs": [
        {
          "output_type": "stream",
          "name": "stdout",
          "text": [
            "8 / 1 = 8.0\n",
            "8 / 2 = 4.0\n",
            "8 / 3 = 2.6666666666666665\n",
            "8 / 4 = 2.0\n",
            "8 / 5 = 1.6\n",
            "8 / 6 = 1.3333333333333333\n",
            "8 / 7 = 1.1428571428571428\n",
            "8 / 8 = 1.0\n",
            "8 / 9 = 0.8888888888888888\n",
            "8 / 10 = 0.8\n",
            "8 / 11 = 0.7272727272727273\n",
            "8 / 12 = 0.6666666666666666\n"
          ]
        }
      ]
    },
    {
      "cell_type": "code",
      "source": [
        "def soma(num1, num2):\n",
        "  resultado = str(num1 + num2)\n",
        "  frase = str(num1) + ' + ' + str(num2) + ' = ' + resultado\n",
        "  return frase\n",
        "print(soma(10,2))"
      ],
      "metadata": {
        "colab": {
          "base_uri": "https://localhost:8080/"
        },
        "id": "JOKcx8PllaIP",
        "outputId": "356d4614-aeb4-4f30-dd19-6486abc2eee5"
      },
      "execution_count": null,
      "outputs": [
        {
          "output_type": "stream",
          "name": "stdout",
          "text": [
            "10 + 2 = 12\n"
          ]
        }
      ]
    },
    {
      "cell_type": "code",
      "source": [
        "for i in range(1, 13):\n",
        "  frase_atual = soma(8, i)\n",
        "  print (frase_atual)"
      ],
      "metadata": {
        "colab": {
          "base_uri": "https://localhost:8080/"
        },
        "id": "dV5uHbeJlfyN",
        "outputId": "c1be845d-bbff-4f12-bcae-589510d070f4"
      },
      "execution_count": null,
      "outputs": [
        {
          "output_type": "stream",
          "name": "stdout",
          "text": [
            "8 + 1 = 9\n",
            "8 + 2 = 10\n",
            "8 + 3 = 11\n",
            "8 + 4 = 12\n",
            "8 + 5 = 13\n",
            "8 + 6 = 14\n",
            "8 + 7 = 15\n",
            "8 + 8 = 16\n",
            "8 + 9 = 17\n",
            "8 + 10 = 18\n",
            "8 + 11 = 19\n",
            "8 + 12 = 20\n"
          ]
        }
      ]
    },
    {
      "cell_type": "code",
      "source": [
        "def subtracao(num1, num2):\n",
        "  resultado = str(num1 - num2)\n",
        "  frase = str(num1) + ' - ' + str(num2) + ' = ' + resultado\n",
        "  return frase\n",
        "print(subtracao(10,2))"
      ],
      "metadata": {
        "colab": {
          "base_uri": "https://localhost:8080/"
        },
        "id": "f7QjyJCPl6IR",
        "outputId": "3b91b963-53ec-4e69-f1ce-98e3f38d15a6"
      },
      "execution_count": null,
      "outputs": [
        {
          "output_type": "stream",
          "name": "stdout",
          "text": [
            "10 - 2 = 8\n"
          ]
        }
      ]
    },
    {
      "cell_type": "code",
      "source": [
        "for i in range(1, 13):\n",
        "  frase_atual = subtracao(8, i)\n",
        "  print (frase_atual)"
      ],
      "metadata": {
        "colab": {
          "base_uri": "https://localhost:8080/"
        },
        "id": "yxJcXNq3mAY_",
        "outputId": "75280527-43f0-41e1-b108-012da11e6fc4"
      },
      "execution_count": null,
      "outputs": [
        {
          "output_type": "stream",
          "name": "stdout",
          "text": [
            "8 - 1 = 7\n",
            "8 - 2 = 6\n",
            "8 - 3 = 5\n",
            "8 - 4 = 4\n",
            "8 - 5 = 3\n",
            "8 - 6 = 2\n",
            "8 - 7 = 1\n",
            "8 - 8 = 0\n",
            "8 - 9 = -1\n",
            "8 - 10 = -2\n",
            "8 - 11 = -3\n",
            "8 - 12 = -4\n"
          ]
        }
      ]
    }
  ]
}