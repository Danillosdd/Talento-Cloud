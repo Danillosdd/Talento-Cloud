{
  "nbformat": 4,
  "nbformat_minor": 0,
  "metadata": {
    "colab": {
      "provenance": []
    },
    "kernelspec": {
      "name": "python3",
      "display_name": "Python 3"
    },
    "language_info": {
      "name": "python"
    }
  },
  "cells": [
    {
      "cell_type": "code",
      "execution_count": 43,
      "metadata": {
        "id": "IXV8m1WCRryf",
        "colab": {
          "base_uri": "https://localhost:8080/"
        },
        "outputId": "6536d68d-a356-4fb7-c714-b3b4cb49af71"
      },
      "outputs": [
        {
          "output_type": "stream",
          "name": "stdout",
          "text": [
            "--------------------------------------------\n",
            "Operações::\n",
            "1. Soma\n",
            "2. Subtração\n",
            "3. Multiplicação\n",
            "4. Divisão\n",
            "0. Sair\n",
            "Informe o primeiro número: 10\n",
            "Informe o segundo número: 2\n",
            "Informe a operação desejada: 1\n",
            "\n",
            "O Resultado da operação é:  12\n",
            "--------------------------------------------\n",
            "Operações::\n",
            "1. Soma\n",
            "2. Subtração\n",
            "3. Multiplicação\n",
            "4. Divisão\n",
            "0. Sair\n",
            "Informe o primeiro número: 10\n",
            "Informe o segundo número: 2\n",
            "Informe a operação desejada: 3\n",
            "\n",
            "O Resultado da operação é:  20\n",
            "--------------------------------------------\n",
            "Operações::\n",
            "1. Soma\n",
            "2. Subtração\n",
            "3. Multiplicação\n",
            "4. Divisão\n",
            "0. Sair\n",
            "Informe o primeiro número: 10\n",
            "Informe o segundo número: 0\n",
            "Informe a operação desejada: 4\n",
            "\n",
            "O Resultado da operação é:  Não é possível dividir por zero!\n",
            "--------------------------------------------\n",
            "Operações::\n",
            "1. Soma\n",
            "2. Subtração\n",
            "3. Multiplicação\n",
            "4. Divisão\n",
            "0. Sair\n",
            "Informe o primeiro número: 10\n",
            "Informe o segundo número: 2\n",
            "Informe a operação desejada: 0\n",
            "\n",
            "O Resultado da operação é:  Fim do Algorítimo\n"
          ]
        }
      ],
      "source": [
        "def caluladora(numero1, numero2, operacao):\n",
        "\n",
        "  if (operacao == 1):\n",
        "    resultado = (numero1 + numero2)\n",
        "    return resultado\n",
        "\n",
        "  elif (operacao == 2):\n",
        "    resultado = (numero1 - numero2)\n",
        "    return resultado\n",
        "\n",
        "  elif (operacao == 3):\n",
        "    resultado = (numero1 * numero2)\n",
        "    return resultado\n",
        "\n",
        "  elif (operacao == 4):\n",
        "    if(numero2 == 0):\n",
        "      return \"Não é possível dividir por zero!\"\n",
        "    resultado = (numero1 / numero2)\n",
        "    return resultado\n",
        "\n",
        "  elif(operacao == 0):\n",
        "    return \"Fim do Algorítimo\"\n",
        "\n",
        "  else: return \"Essa opção não existe!\"\n",
        "\n",
        "operacao = 1\n",
        "\n",
        "while(operacao != 0):\n",
        "  print(\"--------------------------------------------\")\n",
        "  print(\"Operações::\")\n",
        "  print(\"1. Soma\")\n",
        "  print(\"2. Subtração\")\n",
        "  print(\"3. Multiplicação\")\n",
        "  print(\"4. Divisão\")\n",
        "  print(\"0. Sair\")\n",
        "\n",
        "  numero1 = int(input(\"Informe o primeiro número: \"))\n",
        "  numero2 = int(input(\"Informe o segundo número: \"))\n",
        "  operacao = int(input(\"Informe a operação desejada: \"))\n",
        "\n",
        "  resultado = caluladora(numero1,numero2, operacao)\n",
        "\n",
        "  print(\"\\nO Resultado da operação é: \", resultado)"
      ]
    }
  ]
}