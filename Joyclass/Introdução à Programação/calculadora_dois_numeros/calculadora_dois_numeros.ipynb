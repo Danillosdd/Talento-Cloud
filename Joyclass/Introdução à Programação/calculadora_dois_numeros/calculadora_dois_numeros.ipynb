{
  "nbformat": 4,
  "nbformat_minor": 0,
  "metadata": {
    "colab": {
      "provenance": []
    },
    "kernelspec": {
      "name": "python3",
      "display_name": "Python 3"
    },
    "language_info": {
      "name": "python"
    }
  },
  "cells": [
    {
      "cell_type": "code",
      "execution_count": 28,
      "metadata": {
        "colab": {
          "base_uri": "https://localhost:8080/"
        },
        "id": "_lfk3EZyAmjg",
        "outputId": "20729e9c-7be8-436c-f0e7-d15d6e250c6a"
      },
      "outputs": [
        {
          "output_type": "stream",
          "name": "stdout",
          "text": [
            "Operações::\n",
            "1. Soma\n",
            "2. Subtração\n",
            "3. Multiplicação\n",
            "4. Divisão\n",
            "Informe o primeiro número: 5\n",
            "Informe o primeiro número: 0\n",
            "Informe a operação desejada: 4\n",
            "O Resultado da operação é:  Não é possível dividir por zero!\n"
          ]
        }
      ],
      "source": [
        "def caluladora(numero1, numero2, operacao):\n",
        "\n",
        "  if (operacao == 1):\n",
        "    resultado = (numero1 + numero2)\n",
        "    return resultado\n",
        "\n",
        "  elif (operacao == 2):\n",
        "    resultado = (numero1 - numero2)\n",
        "    return resultado\n",
        "\n",
        "  elif (operacao == 3):\n",
        "    resultado = (numero1 * numero2)\n",
        "    return resultado\n",
        "\n",
        "  elif (operacao == 4):\n",
        "    if(numero2 == 0):\n",
        "      return \"Não é possível dividir por zero!\"\n",
        "    resultado = (numero1 / numero2)\n",
        "    return resultado\n",
        "\n",
        "  else: return 0\n",
        "\n",
        "\n",
        "\n",
        "print(\"Operações::\")\n",
        "print(\"1. Soma\")\n",
        "print(\"2. Subtração\")\n",
        "print(\"3. Multiplicação\")\n",
        "print(\"4. Divisão\")\n",
        "\n",
        "numero1 = int(input(\"Informe o primeiro número: \"))\n",
        "numero2 = int(input(\"Informe o segundo número: \"))\n",
        "operacao = int(input(\"Informe a operação desejada: \"))\n",
        "\n",
        "resultado = caluladora(numero1,numero2, operacao)\n",
        "\n",
        "print(\"O Resultado da operação é: \", resultado)"
      ]
    }
  ]
}