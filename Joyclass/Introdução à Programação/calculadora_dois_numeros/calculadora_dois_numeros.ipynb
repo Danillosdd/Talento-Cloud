{
  "nbformat": 4,
  "nbformat_minor": 0,
  "metadata": {
    "colab": {
      "provenance": []
    },
    "kernelspec": {
      "name": "python3",
      "display_name": "Python 3"
    },
    "language_info": {
      "name": "python"
    }
  },
  "cells": [
    {
      "cell_type": "markdown",
      "source": [
        "Faça uma função calculadora de dois números com três parâmetros: os dois primeiros serão os números da operação e o terceiro será a entrada que definirá a operação a ser executada. Considera a seguinte definição: 1. Soma 2. Subtração 3. Multiplicação 4. Divisão\n",
        "\n",
        "Caso seja inserido um número de operação que não exista, o resultado deverá ser 0."
      ],
      "metadata": {
        "id": "VbJdm14BhvVe"
      }
    },
    {
      "cell_type": "code",
      "execution_count": null,
      "metadata": {
        "colab": {
          "base_uri": "https://localhost:8080/"
        },
        "id": "_lfk3EZyAmjg",
        "outputId": "996f68e7-b8e0-4bab-95f0-15841ee2862e"
      },
      "outputs": [
        {
          "output_type": "stream",
          "name": "stdout",
          "text": [
            "Operações::\n",
            "1. Soma\n",
            "2. Subtração\n",
            "3. Multiplicação\n",
            "4. Divisão\n",
            "Informe o primeiro número: 10\n",
            "Informe o segundo número: 2\n",
            "Informe a operação desejada: 3\n",
            "O Resultado da operação é:  20\n"
          ]
        }
      ],
      "source": [
        "def caluladora(numero1, numero2, operacao):\n",
        "\n",
        "  if (operacao == 1):\n",
        "    resultado = (numero1 + numero2)\n",
        "    return resultado\n",
        "\n",
        "  elif (operacao == 2):\n",
        "    resultado = (numero1 - numero2)\n",
        "    return resultado\n",
        "\n",
        "  elif (operacao == 3):\n",
        "    resultado = (numero1 * numero2)\n",
        "    return resultado\n",
        "\n",
        "  elif (operacao == 4):\n",
        "    if(numero2 == 0):\n",
        "      return \"Não é possível dividir por zero!\"\n",
        "    resultado = (numero1 / numero2)\n",
        "    return resultado\n",
        "\n",
        "  else: return 0\n",
        "\n",
        "\n",
        "\n",
        "print(\"Operações::\")\n",
        "print(\"1. Soma\")\n",
        "print(\"2. Subtração\")\n",
        "print(\"3. Multiplicação\")\n",
        "print(\"4. Divisão\")\n",
        "\n",
        "numero1 = int(input(\"Informe o primeiro número: \"))\n",
        "numero2 = int(input(\"Informe o segundo número: \"))\n",
        "operacao = int(input(\"Informe a operação desejada: \"))\n",
        "\n",
        "resultado = caluladora(numero1,numero2, operacao)\n",
        "\n",
        "print(\"O Resultado da operação é: \", resultado)"
      ]
    }
  ]
}