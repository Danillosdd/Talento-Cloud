{
  "nbformat": 4,
  "nbformat_minor": 0,
  "metadata": {
    "colab": {
      "provenance": []
    },
    "kernelspec": {
      "name": "python3",
      "display_name": "Python 3"
    },
    "language_info": {
      "name": "python"
    }
  },
  "cells": [
    {
      "cell_type": "markdown",
      "source": [
        "Desenvolva um programa que recebe do usuário nome completo e ano de nascimento que seja entre 1922 e 2021.A partir dessas informações, o sistema mostrará o nome do usuário e a idade que completou, ou completará, no ano atual (2022).\n",
        "\n",
        "Caso o usuário não digite um número ou apareça um inválido no campo do ano, o sistema informará o erro e continuará perguntando até que um valor correto seja preenchido.\n",
        "\n",
        "Trabalhe esse código em seu IDE, suba ele para sua conta no GitHub e compartilhe o link desse projeto no campo ao lado para que outros desenvolvedores possam analisá-lo."
      ],
      "metadata": {
        "id": "e1mjrHbohIZ3"
      }
    },
    {
      "cell_type": "code",
      "execution_count": 1,
      "metadata": {
        "colab": {
          "base_uri": "https://localhost:8080/"
        },
        "id": "mDtS0PJNhE3z",
        "outputId": "49919748-c6f5-4cfd-f417-1aa3047b4d70"
      },
      "outputs": [
        {
          "output_type": "stream",
          "name": "stdout",
          "text": [
            "Informe seu Nome Completo: a\n",
            "Informe o ano do seu nascimento(Entre 1922 e 2021): 999999\n",
            "\n",
            "Ano de nascimento precisa estar entre 1922 e 2021!\n",
            "Informe o ano do seu nascimento(Entre 1922 e 2021): \n",
            "\n",
            "Ano de nascimento inválido!\n",
            "Informe o ano do seu nascimento(Entre 1922 e 2021): 1990\n",
            "\n",
            "O nome do usuário é: a\n",
            "Neste ano de 2022 sua idade que completou, ou completará é de: 32\n"
          ]
        }
      ],
      "source": [
        "nome = input(\"Informe seu Nome Completo: \")\n",
        "\n",
        "ano_valido = False\n",
        "\n",
        "while(ano_valido == False):\n",
        "  try:\n",
        "\n",
        "    ano_nascimento = int(input(\"Informe o ano do seu nascimento(Entre 1922 e 2021): \"))\n",
        "\n",
        "\n",
        "    if(ano_nascimento >= 1922) and (ano_nascimento <= 2021):\n",
        "      print(\"\\nO nome do usuário é: \" + nome)\n",
        "      print(\"Neste ano de 2022 sua idade que completou, ou completará é de: \" + str((2022  - ano_nascimento)))\n",
        "      ano_valido = True\n",
        "    else:\n",
        "      print(\"\\nAno de nascimento precisa estar entre 1922 e 2021!\")\n",
        "\n",
        "  except:\n",
        "    print(\"\\nAno de nascimento inválido!\")"
      ]
    }
  ]
}