{
  "nbformat": 4,
  "nbformat_minor": 0,
  "metadata": {
    "colab": {
      "provenance": []
    },
    "kernelspec": {
      "name": "python3",
      "display_name": "Python 3"
    },
    "language_info": {
      "name": "python"
    }
  },
  "cells": [
    {
      "cell_type": "code",
      "execution_count": 1,
      "metadata": {
        "colab": {
          "base_uri": "https://localhost:8080/"
        },
        "id": "b9NEnM5yCqt8",
        "outputId": "2d551803-2b7f-4546-8ea4-1c2ba9e5abc7"
      },
      "outputs": [
        {
          "output_type": "stream",
          "name": "stdout",
          "text": [
            "['melancia', 'morango', 'abacaxi']\n",
            "['melancia', 'morango', 'abacaxi', 'kiwi']\n"
          ]
        }
      ],
      "source": [
        "lista_frutas = ['melancia', 'morango', 'abacaxi']\n",
        "print(lista_frutas)\n",
        "# Imprimirá: ['melancia', 'morango', 'abacaxi']\n",
        "\n",
        "lista_frutas.append('kiwi')\n",
        "print(lista_frutas)\n",
        "# Imprimirá: ['melancia', 'morango', 'abacaxi', 'kiwi']"
      ]
    },
    {
      "cell_type": "code",
      "source": [
        "lista_num = ['melancia', 'morango', 'abacaxi']\n",
        "\n",
        "for i in range(len(lista_num)):\n",
        "  print(lista_num[i])"
      ],
      "metadata": {
        "colab": {
          "base_uri": "https://localhost:8080/"
        },
        "id": "uS6QhwkuC4OE",
        "outputId": "83bed9bd-ce49-4dc2-a599-4cc134fe8c12"
      },
      "execution_count": 3,
      "outputs": [
        {
          "output_type": "stream",
          "name": "stdout",
          "text": [
            "melancia\n",
            "morango\n",
            "abacaxi\n"
          ]
        }
      ]
    },
    {
      "cell_type": "code",
      "source": [
        "lista_num = ['melancia', 'morango', 'abacaxi']\n",
        "\n",
        "for i in lista_num:\n",
        "  print(i)"
      ],
      "metadata": {
        "colab": {
          "base_uri": "https://localhost:8080/"
        },
        "id": "JGbIzKmfGZaC",
        "outputId": "2224906b-1cc4-4601-a2b1-eb7fcca09c66"
      },
      "execution_count": 7,
      "outputs": [
        {
          "output_type": "stream",
          "name": "stdout",
          "text": [
            "melancia\n",
            "morango\n",
            "abacaxi\n"
          ]
        }
      ]
    },
    {
      "cell_type": "code",
      "source": [
        "lista_num = ['melancia', 'morango', 'abacaxi']\n",
        "\n",
        "_ = [print(i) for i in lista_num]"
      ],
      "metadata": {
        "colab": {
          "base_uri": "https://localhost:8080/"
        },
        "id": "zkv9EVm7HMB1",
        "outputId": "358cfdd3-9ec9-49ef-8a46-18d4a5155ec1"
      },
      "execution_count": 8,
      "outputs": [
        {
          "output_type": "stream",
          "name": "stdout",
          "text": [
            "melancia\n",
            "morango\n",
            "abacaxi\n"
          ]
        }
      ]
    },
    {
      "cell_type": "code",
      "source": [
        "lista_num = ['melancia', 'morango', 'abacaxi']\n",
        "\n",
        "for i, elem in enumerate(lista_num):\n",
        "  print(i, \":\", elem)"
      ],
      "metadata": {
        "colab": {
          "base_uri": "https://localhost:8080/"
        },
        "id": "Fl8WC5JSI5fz",
        "outputId": "8bfeed4c-a19d-4daf-a995-ea9877f3c141"
      },
      "execution_count": 9,
      "outputs": [
        {
          "output_type": "stream",
          "name": "stdout",
          "text": [
            "0 : melancia\n",
            "1 : morango\n",
            "2 : abacaxi\n"
          ]
        }
      ]
    },
    {
      "cell_type": "code",
      "source": [
        "import numpy as np\n",
        "\n",
        "lista_num = np.arange(10)\n",
        "\n",
        "for i in np.nditer(lista_num):\n",
        "  print(i)"
      ],
      "metadata": {
        "colab": {
          "base_uri": "https://localhost:8080/"
        },
        "id": "gNAojdPSJGco",
        "outputId": "6a1b614a-2be8-41d4-e545-61ee1fc259af"
      },
      "execution_count": 10,
      "outputs": [
        {
          "output_type": "stream",
          "name": "stdout",
          "text": [
            "0\n",
            "1\n",
            "2\n",
            "3\n",
            "4\n",
            "5\n",
            "6\n",
            "7\n",
            "8\n",
            "9\n"
          ]
        }
      ]
    },
    {
      "cell_type": "code",
      "source": [
        "lista_frutas = ['melancia', 'morango', 'abacaxi']\n",
        "print(lista_frutas)\n",
        "# Imprimirá: ['melancia', 'morango', 'abacaxi']\n",
        "\n",
        "lista_frutas.append('kiwi')\n",
        "print(lista_frutas)\n",
        "# Imprimirá: ['melancia', 'morango', 'abacaxi', 'kiwi']"
      ],
      "metadata": {
        "colab": {
          "base_uri": "https://localhost:8080/"
        },
        "id": "pbl_eSNkDRn9",
        "outputId": "3eec11ee-f772-4647-b1d6-53d569abb898"
      },
      "execution_count": 5,
      "outputs": [
        {
          "output_type": "stream",
          "name": "stdout",
          "text": [
            "['melancia', 'morango', 'abacaxi']\n",
            "['melancia', 'morango', 'abacaxi', 'kiwi']\n"
          ]
        }
      ]
    },
    {
      "cell_type": "code",
      "source": [
        "lista_frutas = ['melancia', 'morango', 'abacaxi', 'kiwi']\n",
        "print(lista_frutas)\n",
        "# Imprimirá: ['melancia', 'morango', 'abacaxi', 'kiwi']\n",
        "\n",
        "lista_frutas.pop()\n",
        "print(lista_frutas)\n",
        "# Imprimirá: ['melancia', 'morango', 'abacaxi']"
      ],
      "metadata": {
        "colab": {
          "base_uri": "https://localhost:8080/"
        },
        "id": "fSjIbaXcDPrI",
        "outputId": "a100da34-47c4-4b1a-c6b2-2b7d7b95b344"
      },
      "execution_count": 4,
      "outputs": [
        {
          "output_type": "stream",
          "name": "stdout",
          "text": [
            "['melancia', 'morango', 'abacaxi', 'kiwi']\n",
            "['melancia', 'morango', 'abacaxi']\n"
          ]
        }
      ]
    },
    {
      "cell_type": "code",
      "source": [
        "nome = input(\"Informe seu Nome Completo: \")\n",
        "\n",
        "ano_valido = False\n",
        "\n",
        "while(ano_valido == False):\n",
        "  try:\n",
        "\n",
        "    ano_nascimento = int(input(\"Informe o ano do seu nascimento(Entre 1922 e 2021): \"))\n",
        "\n",
        "\n",
        "    if(ano_nascimento >= 1922) and (ano_nascimento <= 2021):\n",
        "      print(\"\\nO nome do usuário é: \" + nome)\n",
        "      print(\"Neste ano de 2022 sua idade que completou, ou completará é de: \" + str((2022  - ano_nascimento)))\n",
        "      ano_valido = True\n",
        "    else:\n",
        "      print(\"\\nAno de nascimento precisa estar entre 1922 e 2021!\")\n",
        "\n",
        "  except:\n",
        "    print(\"\\nAno de nascimento inválido!\")"
      ],
      "metadata": {
        "colab": {
          "base_uri": "https://localhost:8080/"
        },
        "id": "jrDWSyB3Daiw",
        "outputId": "e1e5fb76-c857-4f6c-d782-051fd778c3b4"
      },
      "execution_count": 6,
      "outputs": [
        {
          "output_type": "stream",
          "name": "stdout",
          "text": [
            "Informe seu Nome Completo: 10\n",
            "Informe o ano do seu nascimento(Entre 1922 e 2021): 0\n",
            "\n",
            "Ano de nascimento precisa estar entre 1922 e 2021!\n",
            "Informe o ano do seu nascimento(Entre 1922 e 2021): a\n",
            "\n",
            "Ano de nascimento inválido!\n",
            "Informe o ano do seu nascimento(Entre 1922 e 2021): 1990\n",
            "\n",
            "O nome do usuário é: 10\n",
            "Neste ano de 2022 sua idade que completou, ou completará é de: 32\n"
          ]
        }
      ]
    }
  ]
}